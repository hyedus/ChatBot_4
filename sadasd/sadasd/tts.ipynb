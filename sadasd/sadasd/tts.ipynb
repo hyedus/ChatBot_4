{
 "cells": [
  {
   "cell_type": "code",
   "execution_count": 1,
   "metadata": {},
   "outputs": [
    {
     "name": "stdout",
     "output_type": "stream",
     "text": [
      "Collecting package metadata (current_repodata.json): ...working... done\n",
      "Solving environment: ...working... done\n",
      "\n",
      "## Package Plan ##\n",
      "\n",
      "  environment location: C:\\Users\\user\\.conda\\envs\\chat_env\n",
      "\n",
      "  added / updated specs:\n",
      "    - speechrecognition\n",
      "\n",
      "\n",
      "The following packages will be downloaded:\n",
      "Note: you may need to restart the kernel to use updated packages.\n"
     ]
    },
    {
     "name": "stderr",
     "output_type": "stream",
     "text": [
      "\n",
      "\n",
      "==> WARNING: A newer version of conda exists. <==\n",
      "  current version: 4.8.3\n",
      "  latest version: 4.8.4\n",
      "\n",
      "Please update conda by running\n",
      "\n",
      "    $ conda update -n base -c defaults conda\n",
      "\n",
      "\n"
     ]
    },
    {
     "name": "stdout",
     "output_type": "stream",
     "text": [
      "\n",
      "\n",
      "    package                    |            build\n",
      "    ---------------------------|-----------------\n",
      "    certifi-2020.6.20          |   py36h9f0ad1d_0         152 KB  conda-forge\n",
      "    python_abi-3.6             |          1_cp36m           4 KB  conda-forge\n",
      "    speechrecognition-3.7.1    |   py36h9f0ad1d_0        31.8 MB  conda-forge\n",
      "    ------------------------------------------------------------\n",
      "                                           Total:        31.9 MB\n",
      "\n",
      "The following NEW packages will be INSTALLED:\n",
      "\n",
      "  python_abi         conda-forge/win-64::python_abi-3.6-1_cp36m\n",
      "  speechrecognition  conda-forge/win-64::speechrecognition-3.7.1-py36h9f0ad1d_0\n",
      "\n",
      "The following packages will be SUPERSEDED by a higher-priority channel:\n",
      "\n",
      "  certifi               pkgs/main::certifi-2020.6.20-py36_0 --> conda-forge::certifi-2020.6.20-py36h9f0ad1d_0\n",
      "\n",
      "\n",
      "\n",
      "Downloading and Extracting Packages\n",
      "\n",
      "python_abi-3.6       | 4 KB      |            |   0% \n",
      "python_abi-3.6       | 4 KB      | ########## | 100% \n",
      "\n",
      "speechrecognition-3. | 31.8 MB   |            |   0% \n",
      "speechrecognition-3. | 31.8 MB   |            |   0% \n",
      "speechrecognition-3. | 31.8 MB   |            |   0% \n",
      "speechrecognition-3. | 31.8 MB   |            |   0% \n",
      "speechrecognition-3. | 31.8 MB   |            |   1% \n",
      "speechrecognition-3. | 31.8 MB   | 1          |   1% \n",
      "speechrecognition-3. | 31.8 MB   | 2          |   2% \n",
      "speechrecognition-3. | 31.8 MB   | 3          |   3% \n",
      "speechrecognition-3. | 31.8 MB   | 5          |   5% \n",
      "speechrecognition-3. | 31.8 MB   | 7          |   8% \n",
      "speechrecognition-3. | 31.8 MB   | #1         |  11% \n",
      "speechrecognition-3. | 31.8 MB   | #4         |  14% \n",
      "speechrecognition-3. | 31.8 MB   | #8         |  18% \n",
      "speechrecognition-3. | 31.8 MB   | ##         |  21% \n",
      "speechrecognition-3. | 31.8 MB   | ##4        |  25% \n",
      "speechrecognition-3. | 31.8 MB   | ##7        |  28% \n",
      "speechrecognition-3. | 31.8 MB   | ###1       |  31% \n",
      "speechrecognition-3. | 31.8 MB   | ###4       |  35% \n",
      "speechrecognition-3. | 31.8 MB   | ###8       |  38% \n",
      "speechrecognition-3. | 31.8 MB   | ####1      |  41% \n",
      "speechrecognition-3. | 31.8 MB   | ####4      |  45% \n",
      "speechrecognition-3. | 31.8 MB   | ####8      |  49% \n",
      "speechrecognition-3. | 31.8 MB   | #####2     |  52% \n",
      "speechrecognition-3. | 31.8 MB   | #####5     |  56% \n",
      "speechrecognition-3. | 31.8 MB   | #####9     |  59% \n",
      "speechrecognition-3. | 31.8 MB   | ######2    |  63% \n",
      "speechrecognition-3. | 31.8 MB   | ######6    |  66% \n",
      "speechrecognition-3. | 31.8 MB   | ######9    |  70% \n",
      "speechrecognition-3. | 31.8 MB   | #######3   |  73% \n",
      "speechrecognition-3. | 31.8 MB   | #######6   |  76% \n",
      "speechrecognition-3. | 31.8 MB   | #######9   |  80% \n",
      "speechrecognition-3. | 31.8 MB   | ########3  |  83% \n",
      "speechrecognition-3. | 31.8 MB   | ########7  |  87% \n",
      "speechrecognition-3. | 31.8 MB   | #########  |  90% \n",
      "speechrecognition-3. | 31.8 MB   | #########4 |  94% \n",
      "speechrecognition-3. | 31.8 MB   | #########7 |  98% \n",
      "speechrecognition-3. | 31.8 MB   | ########## | 100% \n",
      "\n",
      "certifi-2020.6.20    | 152 KB    |            |   0% \n",
      "certifi-2020.6.20    | 152 KB    | ########## | 100% \n",
      "Preparing transaction: ...working... done\n",
      "Verifying transaction: ...working... done\n",
      "Executing transaction: ...working... done\n"
     ]
    }
   ],
   "source": [
    "conda install -c conda-forge speechrecognition"
   ]
  },
  {
   "cell_type": "code",
   "execution_count": 4,
   "metadata": {},
   "outputs": [
    {
     "data": {
      "text/plain": [
       "'3.7.1'"
      ]
     },
     "execution_count": 4,
     "metadata": {},
     "output_type": "execute_result"
    }
   ],
   "source": [
    "import speech_recognition as sr\n",
    "sr.__version__"
   ]
  },
  {
   "cell_type": "code",
   "execution_count": 5,
   "metadata": {},
   "outputs": [
    {
     "name": "stdout",
     "output_type": "stream",
     "text": [
      "Collecting gTTS\n",
      "  Downloading gTTS-2.1.1-py3-none-any.whl (25 kB)\n",
      "Requirement already satisfied: requests in c:\\users\\user\\.conda\\envs\\chat_env\\lib\\site-packages (from gTTS) (2.24.0)\n",
      "Collecting click\n",
      "  Using cached click-7.1.2-py2.py3-none-any.whl (82 kB)\n",
      "Requirement already satisfied: six in c:\\users\\user\\.conda\\envs\\chat_env\\lib\\site-packages (from gTTS) (1.15.0)\n",
      "Collecting gtts-token>=1.1.3\n",
      "  Downloading gTTS-token-1.1.3.tar.gz (3.4 kB)\n",
      "Requirement already satisfied: beautifulsoup4 in c:\\users\\user\\.conda\\envs\\chat_env\\lib\\site-packages (from gTTS) (4.6.0)\n",
      "Requirement already satisfied: urllib3!=1.25.0,!=1.25.1,<1.26,>=1.21.1 in c:\\users\\user\\.conda\\envs\\chat_env\\lib\\site-packages (from requests->gTTS) (1.25.10)\n",
      "Requirement already satisfied: certifi>=2017.4.17 in c:\\users\\user\\.conda\\envs\\chat_env\\lib\\site-packages (from requests->gTTS) (2020.6.20)\n",
      "Requirement already satisfied: idna<3,>=2.5 in c:\\users\\user\\.conda\\envs\\chat_env\\lib\\site-packages (from requests->gTTS) (2.10)\n",
      "Requirement already satisfied: chardet<4,>=3.0.2 in c:\\users\\user\\.conda\\envs\\chat_env\\lib\\site-packages (from requests->gTTS) (3.0.4)\n",
      "Building wheels for collected packages: gtts-token\n",
      "  Building wheel for gtts-token (setup.py): started\n",
      "  Building wheel for gtts-token (setup.py): finished with status 'done'\n",
      "  Created wheel for gtts-token: filename=gTTS_token-1.1.3-py3-none-any.whl size=4102 sha256=fa4d0a4bf396d54137d2f1b41b81435999677c2ea84e6bc456954dafab793b53\n",
      "  Stored in directory: c:\\users\\user\\appdata\\local\\pip\\cache\\wheels\\6d\\ae\\7f\\0d768fed29681475722161468bddc6220c1db2dbc18c832ce5\n",
      "Successfully built gtts-token\n",
      "Installing collected packages: click, gtts-token, gTTS\n",
      "Successfully installed click-7.1.2 gTTS-2.1.1 gtts-token-1.1.3\n",
      "Note: you may need to restart the kernel to use updated packages.\n"
     ]
    }
   ],
   "source": [
    "pip install gTTS"
   ]
  },
  {
   "cell_type": "code",
   "execution_count": 8,
   "metadata": {},
   "outputs": [
    {
     "name": "stdout",
     "output_type": "stream",
     "text": [
      "Collecting pyttsx\n",
      "  Downloading pyttsx-1.1.tar.gz (23 kB)\n",
      "Building wheels for collected packages: pyttsx\n",
      "  Building wheel for pyttsx (setup.py): started\n",
      "  Building wheel for pyttsx (setup.py): finished with status 'done'\n",
      "  Created wheel for pyttsx: filename=pyttsx-1.1-py3-none-any.whl size=22454 sha256=bd6844e9b6e5327d36f11803df2fd2d9e4fc5fc989157d3f2a3f89803e8ef19c\n",
      "  Stored in directory: c:\\users\\user\\appdata\\local\\pip\\cache\\wheels\\fb\\e5\\72\\cbcf0a87791ece03be4a627dc102f4550a375fa9a71597612f\n",
      "Successfully built pyttsx\n",
      "Installing collected packages: pyttsx\n",
      "Successfully installed pyttsx-1.1\n",
      "Note: you may need to restart the kernel to use updated packages.\n"
     ]
    }
   ],
   "source": [
    "pip install pyttsx"
   ]
  },
  {
   "cell_type": "code",
   "execution_count": 9,
   "metadata": {},
   "outputs": [
    {
     "name": "stdout",
     "output_type": "stream",
     "text": [
      "Collecting PyaudioNote: you may need to restart the kernel to use updated packages.\n",
      "  Downloading PyAudio-0.2.11-cp36-cp36m-win_amd64.whl (52 kB)\n",
      "Installing collected packages: Pyaudio\n",
      "Successfully installed Pyaudio-0.2.11\n",
      "\n"
     ]
    }
   ],
   "source": [
    "pip install Pyaudio"
   ]
  },
  {
   "cell_type": "markdown",
   "metadata": {},
   "source": [
    "### 그러면 음성을 받고 음성을 처리 후 /command로 봇에 넘겨줘야 할듯?\n",
    "### 만약에 음성으로 오늘 키워드라고 했을 때, string을 짤라서 단어들을 탐색하고\n",
    "### 오늘 / 키워드라고 나왔을 때, 인자로 오늘 , 키워드를 넘겨줘서 인자를 prams에 알맞게 넣어서 query"
   ]
  },
  {
   "cell_type": "markdown",
   "metadata": {},
   "source": [
    "# 파일을 이용한 STT"
   ]
  },
  {
   "cell_type": "code",
   "execution_count": 12,
   "metadata": {},
   "outputs": [
    {
     "name": "stdout",
     "output_type": "stream",
     "text": [
      "Google Speech Recognition thinks you said : 안녕하세요 오늘도 멋진 하루 되세요\n"
     ]
    }
   ],
   "source": [
    "import speech_recognition as sr\n",
    "\n",
    "AUDIO_FILE = \"hello.wav\"\n",
    "\n",
    "r = sr.Recognizer()\n",
    "\n",
    "with sr.AudioFile(AUDIO_FILE) as source:\n",
    "    audio = r.record(source)  # 전체 audio file 읽기\n",
    "\n",
    "# 구글 웹 음성 API로 인식하기 (하루에 제한 50회)\n",
    "try:\n",
    "    print(\"Google Speech Recognition thinks you said : \" + r.recognize_google(audio, language='ko'))\n",
    "except sr.UnknownValueError:\n",
    "    print(\"Google Speech Recognition could not understand audio\")\n",
    "except sr.RequestError as e:\n",
    "    print(\"Could not request results from Google Speech Recognition service; {0}\".format(e))"
   ]
  },
  {
   "cell_type": "markdown",
   "metadata": {},
   "source": [
    "# 마이크를 통한 STT"
   ]
  },
  {
   "cell_type": "code",
   "execution_count": null,
   "metadata": {},
   "outputs": [],
   "source": [
    "import speech_recognition as sr\n",
    "\n",
    "# microphone에서 auido source를 생성합니다\n",
    "r = sr.Recognizer()\n",
    "with sr.Microphone() as source:\n",
    "    print(\"Say something!\")\n",
    "    audio = r.listen(source)\n",
    "\n",
    "# 구글 웹 음성 API로 인식하기 (하루에 제한 50회)\n",
    "try:\n",
    "    print(\"Google Speech Recognition thinks you said : \" + r.recognize_google(audio, language='ko'))\n",
    "except sr.UnknownValueError:\n",
    "    print(\"Google Speech Recognition could not understand audio\")\n",
    "except sr.RequestError as e:\n",
    "    print(\"Could not request results from Google Speech Recognition service; {0}\".format(e))\n",
    "    \n",
    "#파일 저장\n",
    "with open(\"microphone-results.wav\", \"wb\") as f:\n",
    "    f.write(audio.get_wav_data())"
   ]
  },
  {
   "cell_type": "markdown",
   "metadata": {},
   "source": [
    "# 위에 String이나 파일을 기반으로 TTS"
   ]
  },
  {
   "cell_type": "code",
   "execution_count": 7,
   "metadata": {},
   "outputs": [],
   "source": [
    "from gtts import gTTS\n",
    "\n",
    "text = \"오늘 키워드\"\n",
    "\n",
    "# 위에 r.recognize_google(audio, language='ko') <- string 형식 가져오는게 좋을듯\n",
    "tts = gTTS(text=text, lang='ko')\n",
    "tts.save('ex.mp3')"
   ]
  },
  {
   "cell_type": "code",
   "execution_count": 13,
   "metadata": {},
   "outputs": [],
   "source": [
    "##만약에 위에 STT에서 음성으로 오늘 키워드 입력 -> 여기에서는 text =  r.recognize_google(audio, language='ko') \n",
    "# r.recognize_google(audio, language='ko')은 사용자가 입력한 음성\n",
    "# 이거를 text에 저장 후 먼저 단어를 분리\n",
    "# ex ) 오늘 키워드 -> 오늘 / 키워드\n",
    "# if 단어에 함수목록 ( keyword, search, hot_issue)가 있다면 command 함수를 봇서버에서 command 처리 하고 이거를 다시\n",
    "# TTS 처리??\n",
    "#챗봇 서버 켜놓은 상태에서 위에 코드들 실행가능?"
   ]
  }
 ],
 "metadata": {
  "kernelspec": {
   "display_name": "ChatApp_env",
   "language": "python",
   "name": "chat_env"
  },
  "language_info": {
   "codemirror_mode": {
    "name": "ipython",
    "version": 3
   },
   "file_extension": ".py",
   "mimetype": "text/x-python",
   "name": "python",
   "nbconvert_exporter": "python",
   "pygments_lexer": "ipython3",
   "version": "3.6.12"
  }
 },
 "nbformat": 4,
 "nbformat_minor": 4
}
